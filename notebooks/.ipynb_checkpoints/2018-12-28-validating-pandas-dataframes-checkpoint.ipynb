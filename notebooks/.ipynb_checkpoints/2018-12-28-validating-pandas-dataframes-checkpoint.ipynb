{
 "cells": [
  {
   "cell_type": "markdown",
   "metadata": {},
   "source": [
    "[Pandas](https://pandas.pydata.org/) offers a powerful interface for data\n",
    "manipulation and analysis, but the dataframe can be an opaque object that’s\n",
    "hard to reason about in terms of its data types and other properties. Often\n",
    "times you’ll have to manually inspect a dataframe at runtime to confirm its contents.\n",
    "The careful reader may even be able to infer the datatypes of its columns by the kinds\n",
    "of functions you apply to it, but at the cost of considerable cognitive overhead.\n",
    "\n",
    "This problem is magnified in complex ETL pipelines that may involve many\n",
    "transformations and joins, or collaborative contexts in which teams of data\n",
    "scientists/engineers need to maintain pandas code in production. Even in\n",
    "research or reporting settings, maintaining reproducible code can be a challenge\n",
    "if the underlying dataset is corrupted or otherwise changed unexpectedly,\n",
    "especially if the findings of an analysis leads to business-critical decisions.\n",
    "\n",
    "[Pandera](https://github.com/cosmicBboy/pandera) is a validation toolkit to make\n",
    "pandas data structures more transparent so it’s easier to reason about the\n",
    "underlying schema of pandas data structures as they undergo various transformations.\n",
    "\n",
    "In this post I’ll sketch out a situation that you may find yourself in where\n",
    "using Pandera may save you and your team from a lot of headaches."
   ]
  },
  {
   "cell_type": "markdown",
   "metadata": {},
   "source": [
    "**Update 12/31/2018:** *service request absolute counts are misleading,\n",
    "since the underlying population of each borough varies. I updated the\n",
    "transformation and plotting functions to normalize the counts by\n",
    "population size.*"
   ]
  },
  {
   "cell_type": "markdown",
   "metadata": {},
   "source": [
    "## Case Study: New York 311 Data"
   ]
  },
  {
   "cell_type": "markdown",
   "metadata": {},
   "source": [
    "Suppose that you run a small data science shop, and one of your clients is the\n",
    "New York mayor’s office. They’ve tasked you with creating monthly reports of\n",
    "New York’s 311 calls containing insights about:\n",
    "\n",
    "1. The most common complaints/descriptors by borough.\n",
    "2. The proportion of service requests that are closed on or before the due date\n",
    "   by responding agency.\n",
    "3. The number of complaints per day by complaint type and borough.\n",
    "\n",
    "For the purposes of this exercise, let’s assume that this dataset is\n",
    "periodically updated on the official data portal. Every month you need to\n",
    "generate a new report (an html file) with some plots showing the relevant\n",
    "summary statistics."
   ]
  },
  {
   "cell_type": "markdown",
   "metadata": {},
   "source": [
    "## Dataset Quality Validation"
   ]
  },
  {
   "cell_type": "markdown",
   "metadata": {},
   "source": [
    "The first thing we need to do is read the data into memory from\n",
    "[nycopendata](https://nycopendata.socrata.com/Social-Services/311-Service-Requests-from-2010-to-Present/erm2-nwe9)."
   ]
  },
  {
   "cell_type": "code",
   "execution_count": 53,
   "metadata": {},
   "outputs": [],
   "source": [
    "import logging\n",
    "import matplotlib.pyplot as plt\n",
    "import pandas as pd\n",
    "import seaborn as sns\n",
    "\n",
    "from collections import OrderedDict\n",
    "from IPython.display import display, Markdown\n",
    "from sodapy import Socrata\n",
    "\n",
    "logging.disable(logging.WARNING)\n",
    "\n",
    "# utility function to print python output as markdown snippets\n",
    "def print_output(s):\n",
    "    display(Markdown(\"```python\\n{}\\n```\".format(s)))\n",
    "\n",
    "plt.style.use('seaborn-white')\n",
    "    \n",
    "%matplotlib inline"
   ]
  },
  {
   "cell_type": "code",
   "execution_count": 46,
   "metadata": {},
   "outputs": [
    {
     "data": {
      "text/html": [
       "<div>\n",
       "<style scoped>\n",
       "    .dataframe tbody tr th:only-of-type {\n",
       "        vertical-align: middle;\n",
       "    }\n",
       "\n",
       "    .dataframe tbody tr th {\n",
       "        vertical-align: top;\n",
       "    }\n",
       "\n",
       "    .dataframe thead th {\n",
       "        text-align: right;\n",
       "    }\n",
       "</style>\n",
       "<table border=\"1\" class=\"dataframe\">\n",
       "  <thead>\n",
       "    <tr style=\"text-align: right;\">\n",
       "      <th></th>\n",
       "      <th>address_type</th>\n",
       "      <th>agency</th>\n",
       "      <th>agency_name</th>\n",
       "      <th>bbl</th>\n",
       "      <th>borough</th>\n",
       "      <th>bridge_highway_direction</th>\n",
       "      <th>bridge_highway_name</th>\n",
       "      <th>bridge_highway_segment</th>\n",
       "      <th>city</th>\n",
       "      <th>closed_date</th>\n",
       "      <th>...</th>\n",
       "      <th>park_facility_name</th>\n",
       "      <th>resolution_action_updated_date</th>\n",
       "      <th>resolution_description</th>\n",
       "      <th>road_ramp</th>\n",
       "      <th>status</th>\n",
       "      <th>street_name</th>\n",
       "      <th>taxi_pick_up_location</th>\n",
       "      <th>unique_key</th>\n",
       "      <th>x_coordinate_state_plane</th>\n",
       "      <th>y_coordinate_state_plane</th>\n",
       "    </tr>\n",
       "  </thead>\n",
       "  <tbody>\n",
       "    <tr>\n",
       "      <th>0</th>\n",
       "      <td>ADDRESS</td>\n",
       "      <td>NYPD</td>\n",
       "      <td>New York City Police Department</td>\n",
       "      <td>1004470036</td>\n",
       "      <td>MANHATTAN</td>\n",
       "      <td>NaN</td>\n",
       "      <td>NaN</td>\n",
       "      <td>NaN</td>\n",
       "      <td>NEW YORK</td>\n",
       "      <td>2018-12-01T02:06:00</td>\n",
       "      <td>...</td>\n",
       "      <td>Unspecified</td>\n",
       "      <td>2018-12-01T02:06:00</td>\n",
       "      <td>The Police Department responded to the complai...</td>\n",
       "      <td>NaN</td>\n",
       "      <td>Closed</td>\n",
       "      <td>EAST 5 STREET</td>\n",
       "      <td>NaN</td>\n",
       "      <td>41069627</td>\n",
       "      <td>987601</td>\n",
       "      <td>203900</td>\n",
       "    </tr>\n",
       "    <tr>\n",
       "      <th>1</th>\n",
       "      <td>ADDRESS</td>\n",
       "      <td>NYPD</td>\n",
       "      <td>New York City Police Department</td>\n",
       "      <td>3011630076</td>\n",
       "      <td>BROOKLYN</td>\n",
       "      <td>NaN</td>\n",
       "      <td>NaN</td>\n",
       "      <td>NaN</td>\n",
       "      <td>BROOKLYN</td>\n",
       "      <td>2018-12-01T04:45:58</td>\n",
       "      <td>...</td>\n",
       "      <td>Unspecified</td>\n",
       "      <td>2018-12-01T04:45:58</td>\n",
       "      <td>The Police Department responded to the complai...</td>\n",
       "      <td>NaN</td>\n",
       "      <td>Closed</td>\n",
       "      <td>PARK PLACE</td>\n",
       "      <td>NaN</td>\n",
       "      <td>41069628</td>\n",
       "      <td>995811</td>\n",
       "      <td>185024</td>\n",
       "    </tr>\n",
       "    <tr>\n",
       "      <th>2</th>\n",
       "      <td>ADDRESS</td>\n",
       "      <td>NYPD</td>\n",
       "      <td>New York City Police Department</td>\n",
       "      <td>2046730075</td>\n",
       "      <td>BRONX</td>\n",
       "      <td>NaN</td>\n",
       "      <td>NaN</td>\n",
       "      <td>NaN</td>\n",
       "      <td>BRONX</td>\n",
       "      <td>2018-12-01T11:49:18</td>\n",
       "      <td>...</td>\n",
       "      <td>Unspecified</td>\n",
       "      <td>2018-12-01T11:49:18</td>\n",
       "      <td>The Police Department issued a summons in resp...</td>\n",
       "      <td>NaN</td>\n",
       "      <td>Closed</td>\n",
       "      <td>EAST 215 STREET</td>\n",
       "      <td>NaN</td>\n",
       "      <td>41069671</td>\n",
       "      <td>1022979</td>\n",
       "      <td>259673</td>\n",
       "    </tr>\n",
       "  </tbody>\n",
       "</table>\n",
       "<p>3 rows × 38 columns</p>\n",
       "</div>"
      ],
      "text/plain": [
       "  address_type agency                      agency_name         bbl    borough  \\\n",
       "0      ADDRESS   NYPD  New York City Police Department  1004470036  MANHATTAN   \n",
       "1      ADDRESS   NYPD  New York City Police Department  3011630076   BROOKLYN   \n",
       "2      ADDRESS   NYPD  New York City Police Department  2046730075      BRONX   \n",
       "\n",
       "  bridge_highway_direction bridge_highway_name bridge_highway_segment  \\\n",
       "0                      NaN                 NaN                    NaN   \n",
       "1                      NaN                 NaN                    NaN   \n",
       "2                      NaN                 NaN                    NaN   \n",
       "\n",
       "       city          closed_date           ...            park_facility_name  \\\n",
       "0  NEW YORK  2018-12-01T02:06:00           ...                   Unspecified   \n",
       "1  BROOKLYN  2018-12-01T04:45:58           ...                   Unspecified   \n",
       "2     BRONX  2018-12-01T11:49:18           ...                   Unspecified   \n",
       "\n",
       "  resolution_action_updated_date  \\\n",
       "0            2018-12-01T02:06:00   \n",
       "1            2018-12-01T04:45:58   \n",
       "2            2018-12-01T11:49:18   \n",
       "\n",
       "                              resolution_description road_ramp  status  \\\n",
       "0  The Police Department responded to the complai...       NaN  Closed   \n",
       "1  The Police Department responded to the complai...       NaN  Closed   \n",
       "2  The Police Department issued a summons in resp...       NaN  Closed   \n",
       "\n",
       "       street_name taxi_pick_up_location unique_key x_coordinate_state_plane  \\\n",
       "0    EAST 5 STREET                   NaN   41069627                   987601   \n",
       "1       PARK PLACE                   NaN   41069628                   995811   \n",
       "2  EAST 215 STREET                   NaN   41069671                  1022979   \n",
       "\n",
       "  y_coordinate_state_plane  \n",
       "0                   203900  \n",
       "1                   185024  \n",
       "2                   259673  \n",
       "\n",
       "[3 rows x 38 columns]"
      ]
     },
     "execution_count": 46,
     "metadata": {},
     "output_type": "execute_result"
    }
   ],
   "source": [
    "# define date range \n",
    "DATE_RANGE = (\"2018/12/01\", \"2018/12/31\")\n",
    "\n",
    "client = Socrata(\"data.cityofnewyork.us\", None)\n",
    "\n",
    "# get data from the beginning of the month\n",
    "\n",
    "df_311 = pd.DataFrame.from_records(\n",
    "    client.get(\n",
    "        \"erm2-nwe9\",\n",
    "        # use socrata SoQL query clauses: https://dev.socrata.com/docs/queries/\n",
    "        where=\"created_date >= '%s' and created_date <= '%s'\" % DATE_RANGE))\n",
    "df_311.head(3)"
   ]
  },
  {
   "cell_type": "markdown",
   "metadata": {},
   "source": [
    "Simple enough!  We can see that each row in this dataset is a service request record containing\n",
    "metadata about different aspects of the request, like which borough the call came from, and which\n",
    "agency responded to the call.\n",
    "\n",
    "One thing we can do to make this code more readable would be to\n",
    "explicitly specify the columns we want to use, and what type we expect them to be."
   ]
  },
  {
   "cell_type": "code",
   "execution_count": 4,
   "metadata": {},
   "outputs": [
    {
     "name": "stdout",
     "output_type": "stream",
     "text": [
      "fetching 311 data:\n",
      "..................."
     ]
    },
    {
     "data": {
      "text/html": [
       "<div>\n",
       "<style scoped>\n",
       "    .dataframe tbody tr th:only-of-type {\n",
       "        vertical-align: middle;\n",
       "    }\n",
       "\n",
       "    .dataframe tbody tr th {\n",
       "        vertical-align: top;\n",
       "    }\n",
       "\n",
       "    .dataframe thead th {\n",
       "        text-align: right;\n",
       "    }\n",
       "</style>\n",
       "<table border=\"1\" class=\"dataframe\">\n",
       "  <thead>\n",
       "    <tr style=\"text-align: right;\">\n",
       "      <th></th>\n",
       "      <th>unique_key</th>\n",
       "      <th>borough</th>\n",
       "      <th>agency_name</th>\n",
       "      <th>created_date</th>\n",
       "      <th>due_date</th>\n",
       "      <th>closed_date</th>\n",
       "      <th>complaint_type</th>\n",
       "    </tr>\n",
       "  </thead>\n",
       "  <tbody>\n",
       "    <tr>\n",
       "      <th>0</th>\n",
       "      <td>41072528</td>\n",
       "      <td>QUEENS</td>\n",
       "      <td>Department of Health and Mental Hygiene</td>\n",
       "      <td>2018-12-01</td>\n",
       "      <td>2018-12-31 01:59:50</td>\n",
       "      <td>2018-12-07</td>\n",
       "      <td>Unsanitary Animal Pvt Property</td>\n",
       "    </tr>\n",
       "    <tr>\n",
       "      <th>1</th>\n",
       "      <td>41073153</td>\n",
       "      <td>QUEENS</td>\n",
       "      <td>Department of Health and Mental Hygiene</td>\n",
       "      <td>2018-12-01</td>\n",
       "      <td>2018-12-31 00:29:24</td>\n",
       "      <td>2018-12-07</td>\n",
       "      <td>Rodent</td>\n",
       "    </tr>\n",
       "    <tr>\n",
       "      <th>2</th>\n",
       "      <td>41078328</td>\n",
       "      <td>MANHATTAN</td>\n",
       "      <td>Department of Health and Mental Hygiene</td>\n",
       "      <td>2018-12-01</td>\n",
       "      <td>2018-12-31 09:20:35</td>\n",
       "      <td>2018-10-17</td>\n",
       "      <td>Rodent</td>\n",
       "    </tr>\n",
       "  </tbody>\n",
       "</table>\n",
       "</div>"
      ],
      "text/plain": [
       "  unique_key    borough                              agency_name created_date  \\\n",
       "0   41072528     QUEENS  Department of Health and Mental Hygiene   2018-12-01   \n",
       "1   41073153     QUEENS  Department of Health and Mental Hygiene   2018-12-01   \n",
       "2   41078328  MANHATTAN  Department of Health and Mental Hygiene   2018-12-01   \n",
       "\n",
       "             due_date closed_date                  complaint_type  \n",
       "0 2018-12-31 01:59:50  2018-12-07  Unsanitary Animal Pvt Property  \n",
       "1 2018-12-31 00:29:24  2018-12-07                          Rodent  \n",
       "2 2018-12-31 09:20:35  2018-10-17                          Rodent  "
      ]
     },
     "metadata": {},
     "output_type": "display_data"
    }
   ],
   "source": [
    "# specify column names and types\n",
    "usecols = OrderedDict([\n",
    "    (\"unique_key\", str),\n",
    "    (\"borough\", str),\n",
    "    (\"agency_name\", str),\n",
    "    (\"created_date\", \"datetime64[ns]\"),\n",
    "    (\"due_date\", \"datetime64[ns]\"),\n",
    "    (\"closed_date\", \"datetime64[ns]\"),\n",
    "    (\"complaint_type\", str),\n",
    "])\n",
    "cols = list(usecols.keys())\n",
    "\n",
    "# page through the results\n",
    "MAX_PAGES = 500\n",
    "LIMIT = 10000\n",
    "records = []\n",
    "\n",
    "print(\"fetching 311 data:\")\n",
    "for i in range(MAX_PAGES):\n",
    "    results = client.get(\n",
    "        \"erm2-nwe9\",\n",
    "        select=\",\".join(cols),\n",
    "        where=\"created_date >= '%s' and created_date <= '%s'\" % DATE_RANGE,\n",
    "        order=\"created_date\",\n",
    "        limit=LIMIT,\n",
    "        offset=LIMIT * i)\n",
    "    print(\".\", end=\"\", flush=True)\n",
    "    records.extend(results)\n",
    "    if len(results) < LIMIT:\n",
    "        break\n",
    "\n",
    "        \n",
    "df_311 = pd.DataFrame.from_records(records)[cols]\n",
    "df_311 = df_311.astype(usecols)\n",
    "display(df_311.head(3))"
   ]
  },
  {
   "cell_type": "markdown",
   "metadata": {},
   "source": [
    "Wait, but we can do even better! Based on the project requirements and what we know about \n",
    "these data either by reading the [documentation](https://dev.socrata.com/foundry/data.cityofnewyork.us/fhrw-4uyv) or doing some \n",
    "exploratory data analysis, we can make some stricter assertions\n",
    "about them. We can do this very simply with `pandera`.\n",
    "\n",
    "### Defining a DataFrameSchema\n",
    "\n",
    "Beyond the column presence and data type checks, we can make assertions about\n",
    "the properties that the dataset must have in order to be considered valid.\n",
    "\n",
    "We first define a `DataFrameSchema`, feeding it a dictionary where keys are\n",
    "column names and values are `Column` objects, which are initialized with the\n",
    "data type of the column and a `Check` or a list of `Check`s."
   ]
  },
  {
   "cell_type": "code",
   "execution_count": 5,
   "metadata": {},
   "outputs": [],
   "source": [
    "from pandera import DataFrameSchema, Check, Column, Index, Bool, \\\n",
    "    DateTime, Float, Int, String\n",
    "\n",
    "schema = DataFrameSchema({\n",
    "    \"column1\": Column(String),\n",
    "    \"column2\": Column(Int, Check(lambda x: x > 0)),\n",
    "    \"column3\": Column(Float, [\n",
    "        Check(lambda x: x > 0.),\n",
    "        Check(lambda s: s.mean() > 0.5, element_wise=False)])\n",
    "})"
   ]
  },
  {
   "cell_type": "markdown",
   "metadata": {},
   "source": [
    "A `Check` takes a function as an argument with the signature `x -> Bool`\n",
    "where `x` is a particular value in the column. In the code below you can\n",
    "see that the `status` and `borough` column checks assert that all the values in\n",
    "the column are in a pre-specified set of categories.\n",
    "\n",
    "```python\n",
    "Check(lambda x: x in [\"category_1\", \"category_2\"]);\n",
    "```"
   ]
  },
  {
   "cell_type": "markdown",
   "metadata": {},
   "source": [
    "You can create vectorized checks by specifying `element_wise=False` (`True` by default), which\n",
    "changes the expected function signature to `s -> Bool|Series[Bool]`, where `s` is a pandas \n",
    "`Series` and the return value can either be `Bool` or a boolean `Series`.\n",
    "\n",
    "```python\n",
    "# the checking function resolves to a boolean\n",
    "Check(lambda s: s.mean() > 0.5, element_wise=False);\n",
    "\n",
    "# the checking function can also resolve to a boolean Series\n",
    "Check(lambda s: s > 0, element_wise=False);\n",
    "```\n",
    "\n",
    "For human-friendly error messages, you can also supply an `error` argument with the message \n",
    "to raise if the check fails. We can check this functionality out with a `SeriesSchema`, which\n",
    "has a similar API to the `DataFrameSchema`."
   ]
  },
  {
   "cell_type": "code",
   "execution_count": 6,
   "metadata": {},
   "outputs": [
    {
     "data": {
      "text/markdown": [
       "```python\n",
       "series did not pass series validator 0: <lambda>: failed uniqueness check\n",
       "```"
      ],
      "text/plain": [
       "<IPython.core.display.Markdown object>"
      ]
     },
     "metadata": {},
     "output_type": "display_data"
    }
   ],
   "source": [
    "from pandera import SeriesSchema\n",
    "\n",
    "s = pd.Series([1, 1, 2, 3])\n",
    "series_schema = SeriesSchema(\n",
    "    Int, Check(lambda s: s.duplicated().sum() == 0, element_wise=False,\n",
    "        error=\"failed uniqueness check\"))\n",
    "\n",
    "try:\n",
    "    series_schema.validate(s)\n",
    "except Exception as e:\n",
    "    print_output(e)"
   ]
  },
  {
   "cell_type": "markdown",
   "metadata": {},
   "source": [
    "Multiple columns can also use the same `Check` objects. In the code snippet\n",
    "below I've defined a `date_min_check` object that are used to verify the\n",
    "`due_date`, and `closed_date` columns, along with the `df_311_schema` that\n",
    "specifies the schema for the 311 data."
   ]
  },
  {
   "cell_type": "code",
   "execution_count": 14,
   "metadata": {},
   "outputs": [],
   "source": [
    "# define a date range checker\n",
    "date_range_check = Check(\n",
    "    lambda s: (s >= pd.Timestamp(DATE_RANGE[0])) &\n",
    "              (s <= pd.Timestamp(DATE_RANGE[1])),\n",
    "    element_wise=False)\n",
    "\n",
    "date_min_check = Check(\n",
    "    lambda s: s >= pd.Timestamp(DATE_RANGE[0]),\n",
    "    element_wise=False)\n",
    "                   \n",
    "BOROUGHS = [\n",
    "    \"BROOKLYN\",\n",
    "    \"QUEENS\",\n",
    "    \"BRONX\",\n",
    "    \"MANHATTAN\",\n",
    "    \"STATEN ISLAND\",\n",
    "    \"Unspecified\"]\n",
    "    \n",
    "# constructing a schema should feel familiar for pandas users\n",
    "df_311_schema = DataFrameSchema({\n",
    "    # make sure unique_key is unique\n",
    "    \"unique_key\": Column(String, Check(lambda s: s.duplicated().sum() == 0,\n",
    "                                       element_wise=False,\n",
    "                                       error=\"column is not unique\")),\n",
    "    # assert borough column contain proper values\n",
    "    \"borough\": Column(String, Check(lambda x: x in BOROUGHS,\n",
    "                                    error=\"borough check failed\")),\n",
    "    \"agency_name\": Column(String),\n",
    "    # assert that records are within the date range\n",
    "    \"created_date\": Column(DateTime, date_range_check),\n",
    "    \"due_date\": Column(DateTime, date_min_check, nullable=True),\n",
    "    \"closed_date\": Column(DateTime, date_min_check, nullable=True),\n",
    "    \"complaint_type\": Column(String),\n",
    "})"
   ]
  },
  {
   "cell_type": "markdown",
   "metadata": {},
   "source": [
    "Once we've defined the `DataFrameSchema`, we can use it to verify the data.\n",
    "I usually take this opportunity to create a preprocessing function that does some basic\n",
    "filtering/transformations. In this case I'm going to assume that records with\n",
    "`closed_date < created_date` are malformed data. There may some good reason the data is\n",
    "this way, but for now so I'll be removing them from the analysis. "
   ]
  },
  {
   "cell_type": "code",
   "execution_count": 111,
   "metadata": {},
   "outputs": [],
   "source": [
    "def preprocess_data(df):\n",
    "    # remove records where closed_date occurs before created_date\n",
    "    df = df[~(df.closed_date < df.created_date)]\n",
    "    return df\n",
    "\n",
    "preprocessed_df_311 = df_311_schema.validate(preprocess_data(df_311))"
   ]
  },
  {
   "cell_type": "markdown",
   "metadata": {},
   "source": [
    "With a `DataFrameSchema`, not only can we see what to expect from\n",
    "our input data, `pandera` also verifies that they fulfill these expectations\n",
    "at runtime.\n",
    "\n",
    "Suppose that for some unknown reason these data are corrupted at a future date.\n",
    "`pandera` gives us useful error messages based on whether a column is missing, a\n",
    "column has the incorrect data type, or whether a `Check` assertion failed.\n",
    "\n",
    "For example, if some of the `created_date` values somehow fell out of the expected date\n",
    "range due to a datetime parsing error, we receive a useful error message."
   ]
  },
  {
   "cell_type": "code",
   "execution_count": 16,
   "metadata": {},
   "outputs": [
    {
     "data": {
      "text/markdown": [
       "```python\n",
       "<Schema Column: type=datetime64[ns]> failed element-wise validator 0:\n",
       "<lambda>\n",
       "failure cases: {0: Timestamp('2018-09-22 00:00:00'), 1: Timestamp('2018-09-22 00:00:00'), 2: Timestamp('2018-09-22 00:00:00'), 3: Timestamp('2018-09-22 00:00:00'), 4: Timestamp('2018-09-22 00:00:00')}\n",
       "```"
      ],
      "text/plain": [
       "<IPython.core.display.Markdown object>"
      ]
     },
     "metadata": {},
     "output_type": "display_data"
    }
   ],
   "source": [
    "df_311_corrupt = df_311.copy()\n",
    "\n",
    "df_311_corrupt[\"created_date\"].iloc[:5] = df_311_corrupt[\n",
    "    \"created_date\"].head(5) - pd.Timedelta(weeks=10)\n",
    "\n",
    "try:\n",
    "    df_311_schema.validate(df_311_corrupt)\n",
    "except Exception as e:\n",
    "    print_output(e.code)"
   ]
  },
  {
   "cell_type": "markdown",
   "metadata": {},
   "source": [
    "Or if a column isn't the expected type."
   ]
  },
  {
   "cell_type": "code",
   "execution_count": 17,
   "metadata": {},
   "outputs": [
    {
     "data": {
      "text/markdown": [
       "```python\n",
       "expected series 'unique_key' to have type object, got int64\n",
       "```"
      ],
      "text/plain": [
       "<IPython.core.display.Markdown object>"
      ]
     },
     "metadata": {},
     "output_type": "display_data"
    }
   ],
   "source": [
    "df_311_corrupt = df_311.copy().assign(\n",
    "    unique_key=df_311.unique_key.astype(int))\n",
    "\n",
    "try:\n",
    "    df_311_schema.validate(df_311_corrupt)\n",
    "except Exception as e:\n",
    "    print_output(e.code)"
   ]
  },
  {
   "cell_type": "markdown",
   "metadata": {},
   "source": [
    "Or if the column is somehow not present in the dataframe."
   ]
  },
  {
   "cell_type": "code",
   "execution_count": 18,
   "metadata": {},
   "outputs": [
    {
     "data": {
      "text/markdown": [
       "```python\n",
       "column 'complaint_type' not in dataframe\n",
       "  unique_key    borough                              agency_name created_date  \\\n",
       "0   41072528     QUEENS  Department of Health and Mental Hygiene   2018-12-01   \n",
       "1   41073153     QUEENS  Department of Health and Mental Hygiene   2018-12-01   \n",
       "2   41078328  MANHATTAN  Department of Health and Mental Hygiene   2018-12-01   \n",
       "3   41078347     QUEENS  Department of Health and Mental Hygiene   2018-12-01   \n",
       "4   41078591   BROOKLYN  Department of Health and Mental Hygiene   2018-12-01   \n",
       "\n",
       "             due_date closed_date  \n",
       "0 2018-12-31 01:59:50  2018-12-07  \n",
       "1 2018-12-31 00:29:24  2018-12-07  \n",
       "2 2018-12-31 09:20:35  2018-10-17  \n",
       "3 2018-12-31 13:51:12  2018-12-05  \n",
       "4 2018-12-31 10:54:26  2018-12-04  \n",
       "```"
      ],
      "text/plain": [
       "<IPython.core.display.Markdown object>"
      ]
     },
     "metadata": {},
     "output_type": "display_data"
    }
   ],
   "source": [
    "df_311_corrupt = df_311.copy().drop(\"complaint_type\", axis=1)\n",
    "\n",
    "try:\n",
    "    df_311_schema.validate(df_311_corrupt)\n",
    "except Exception as e:\n",
    "    print_output(e.code)"
   ]
  },
  {
   "cell_type": "markdown",
   "metadata": {},
   "source": [
    "Note that calling `schema.validate(df)` will return the validated dataframe,\n",
    "so you would be able to easily refactor an existing function to perform schema\n",
    "validation:"
   ]
  },
  {
   "cell_type": "code",
   "execution_count": 19,
   "metadata": {},
   "outputs": [],
   "source": [
    "def processing_function(df):\n",
    "    # do something\n",
    "    ...\n",
    "    return processed_df\n",
    "\n",
    "\n",
    "def processing_function(df):\n",
    "    # do something\n",
    "    ...\n",
    "    # validate the output\n",
    "    return schema.validate(processed_df)\n",
    "\n",
    "\n",
    "def processing_function(df):\n",
    "    # validate the input\n",
    "    df = schema.validate(df)\n",
    "    # do something\n",
    "    ...\n",
    "    return processed_df"
   ]
  },
  {
   "cell_type": "markdown",
   "metadata": {},
   "source": [
    "## Adding Guardrails around your Data Munging Pipeline"
   ]
  },
  {
   "cell_type": "markdown",
   "metadata": {},
   "source": [
    "To obtain the three insights that we need to create our monthly report, we need\n",
    "to manipulate the data. There's no single workflow for adding guard rails around your\n",
    "data manipulation code, but a good rule of thumb is to compose a sequence of functions\n",
    "together to do it. We can then use these functions as scaffolding to verify the \n",
    "dataframe inputs/outputs of a function before they’re passed onto the next one."
   ]
  },
  {
   "cell_type": "markdown",
   "metadata": {},
   "source": [
    "### Cleaning up Complaints"
   ]
  },
  {
   "cell_type": "markdown",
   "metadata": {},
   "source": [
    "First we clean up the `complaint_type` column in order to address the first\n",
    "question:\n",
    "\n",
    "> 1. The most common complaints by borough.\n",
    "\n",
    "In this case we'll be re-mapping a few of the values in the `complaint_type` column\n",
    "and then validating the output of the function with a `DataFrameSchema`."
   ]
  },
  {
   "cell_type": "code",
   "execution_count": 18,
   "metadata": {},
   "outputs": [
    {
     "data": {
      "text/html": [
       "<div>\n",
       "<style scoped>\n",
       "    .dataframe tbody tr th:only-of-type {\n",
       "        vertical-align: middle;\n",
       "    }\n",
       "\n",
       "    .dataframe tbody tr th {\n",
       "        vertical-align: top;\n",
       "    }\n",
       "\n",
       "    .dataframe thead th {\n",
       "        text-align: right;\n",
       "    }\n",
       "</style>\n",
       "<table border=\"1\" class=\"dataframe\">\n",
       "  <thead>\n",
       "    <tr style=\"text-align: right;\">\n",
       "      <th></th>\n",
       "      <th>unique_key</th>\n",
       "      <th>borough</th>\n",
       "      <th>agency_name</th>\n",
       "      <th>created_date</th>\n",
       "      <th>due_date</th>\n",
       "      <th>closed_date</th>\n",
       "      <th>complaint_type</th>\n",
       "      <th>complaint_type_clean</th>\n",
       "    </tr>\n",
       "  </thead>\n",
       "  <tbody>\n",
       "    <tr>\n",
       "      <th>0</th>\n",
       "      <td>41072528</td>\n",
       "      <td>QUEENS</td>\n",
       "      <td>Department of Health and Mental Hygiene</td>\n",
       "      <td>2018-12-01</td>\n",
       "      <td>2018-12-31 01:59:50</td>\n",
       "      <td>2018-12-07</td>\n",
       "      <td>Unsanitary Animal Pvt Property</td>\n",
       "      <td>Unsanitary Animal Pvt Property</td>\n",
       "    </tr>\n",
       "    <tr>\n",
       "      <th>1</th>\n",
       "      <td>41073153</td>\n",
       "      <td>QUEENS</td>\n",
       "      <td>Department of Health and Mental Hygiene</td>\n",
       "      <td>2018-12-01</td>\n",
       "      <td>2018-12-31 00:29:24</td>\n",
       "      <td>2018-12-07</td>\n",
       "      <td>Rodent</td>\n",
       "      <td>Rodent</td>\n",
       "    </tr>\n",
       "    <tr>\n",
       "      <th>2</th>\n",
       "      <td>41078328</td>\n",
       "      <td>MANHATTAN</td>\n",
       "      <td>Department of Health and Mental Hygiene</td>\n",
       "      <td>2018-12-01</td>\n",
       "      <td>2018-12-31 09:20:35</td>\n",
       "      <td>2018-10-17</td>\n",
       "      <td>Rodent</td>\n",
       "      <td>Rodent</td>\n",
       "    </tr>\n",
       "  </tbody>\n",
       "</table>\n",
       "</div>"
      ],
      "text/plain": [
       "  unique_key    borough                              agency_name created_date  \\\n",
       "0   41072528     QUEENS  Department of Health and Mental Hygiene   2018-12-01   \n",
       "1   41073153     QUEENS  Department of Health and Mental Hygiene   2018-12-01   \n",
       "2   41078328  MANHATTAN  Department of Health and Mental Hygiene   2018-12-01   \n",
       "\n",
       "             due_date closed_date                  complaint_type  \\\n",
       "0 2018-12-31 01:59:50  2018-12-07  Unsanitary Animal Pvt Property   \n",
       "1 2018-12-31 00:29:24  2018-12-07                          Rodent   \n",
       "2 2018-12-31 09:20:35  2018-10-17                          Rodent   \n",
       "\n",
       "             complaint_type_clean  \n",
       "0  Unsanitary Animal Pvt Property  \n",
       "1                          Rodent  \n",
       "2                          Rodent  "
      ]
     },
     "execution_count": 18,
     "metadata": {},
     "output_type": "execute_result"
    }
   ],
   "source": [
    "REPLACE_DICT = {\n",
    "    \"Noise - Residential\": \"Noise\",\n",
    "    \"Noise - Street/Sidewalk\": \"Noise\",\n",
    "    \"Noise - Commercial\": \"Noise\",\n",
    "    \"Noise - Park\": \"Noise\",\n",
    "    \"Noise - Helicopter\": \"Noise\",\n",
    "    \"Noise - Vehicle\": \"Noise\",\n",
    "}\n",
    "\n",
    "clean_complaint_schema = DataFrameSchema({\n",
    "    \"complaint_type_clean\": Column(String, [\n",
    "        Check(lambda x: x not in REPLACE_DICT),\n",
    "        Check(lambda s: (s == \"Noise\").any(), element_wise=False)\n",
    "    ])\n",
    "})\n",
    "\n",
    "\n",
    "def clean_complaint_type(df):\n",
    "    clean_df = (\n",
    "        df.assign(complaint_type_clean=df.complaint_type)\n",
    "        .replace({\"complaint_type_clean\": REPLACE_DICT})\n",
    "    )\n",
    "    return clean_complaint_schema.validate(clean_df)\n",
    "    \n",
    "    \n",
    "clean_complaint_type(df_311).head(3)"
   ]
  },
  {
   "cell_type": "markdown",
   "metadata": {},
   "source": [
    "### Creating Derived Data"
   ]
  },
  {
   "cell_type": "markdown",
   "metadata": {},
   "source": [
    "Next, we create a new column `closed_lte_due` which is a boolean column\n",
    "where `True` indicates that the service request was closed before or at\n",
    "the `due_date`. We'll need this derived data when answering the second question:\n",
    "\n",
    "> 2. The proportion of service requests that are closed on or before the due date\n",
    "  by responding agency.\n",
    "  \n",
    "In this case, we'll use the `check_output` decorator as a convenience to validate\n",
    "the output of the function (which is assumed to be a dataframe)."
   ]
  },
  {
   "cell_type": "code",
   "execution_count": 8,
   "metadata": {},
   "outputs": [
    {
     "data": {
      "text/html": [
       "<div>\n",
       "<style scoped>\n",
       "    .dataframe tbody tr th:only-of-type {\n",
       "        vertical-align: middle;\n",
       "    }\n",
       "\n",
       "    .dataframe tbody tr th {\n",
       "        vertical-align: top;\n",
       "    }\n",
       "\n",
       "    .dataframe thead th {\n",
       "        text-align: right;\n",
       "    }\n",
       "</style>\n",
       "<table border=\"1\" class=\"dataframe\">\n",
       "  <thead>\n",
       "    <tr style=\"text-align: right;\">\n",
       "      <th></th>\n",
       "      <th>unique_key</th>\n",
       "      <th>borough</th>\n",
       "      <th>agency_name</th>\n",
       "      <th>created_date</th>\n",
       "      <th>due_date</th>\n",
       "      <th>closed_date</th>\n",
       "      <th>complaint_type</th>\n",
       "      <th>closed_lte_due</th>\n",
       "    </tr>\n",
       "  </thead>\n",
       "  <tbody>\n",
       "    <tr>\n",
       "      <th>0</th>\n",
       "      <td>41072528</td>\n",
       "      <td>QUEENS</td>\n",
       "      <td>Department of Health and Mental Hygiene</td>\n",
       "      <td>2018-12-01</td>\n",
       "      <td>2018-12-31 01:59:50</td>\n",
       "      <td>2018-12-07</td>\n",
       "      <td>Unsanitary Animal Pvt Property</td>\n",
       "      <td>True</td>\n",
       "    </tr>\n",
       "    <tr>\n",
       "      <th>1</th>\n",
       "      <td>41073153</td>\n",
       "      <td>QUEENS</td>\n",
       "      <td>Department of Health and Mental Hygiene</td>\n",
       "      <td>2018-12-01</td>\n",
       "      <td>2018-12-31 00:29:24</td>\n",
       "      <td>2018-12-07</td>\n",
       "      <td>Rodent</td>\n",
       "      <td>True</td>\n",
       "    </tr>\n",
       "    <tr>\n",
       "      <th>2</th>\n",
       "      <td>41078328</td>\n",
       "      <td>MANHATTAN</td>\n",
       "      <td>Department of Health and Mental Hygiene</td>\n",
       "      <td>2018-12-01</td>\n",
       "      <td>2018-12-31 09:20:35</td>\n",
       "      <td>2018-10-17</td>\n",
       "      <td>Rodent</td>\n",
       "      <td>True</td>\n",
       "    </tr>\n",
       "  </tbody>\n",
       "</table>\n",
       "</div>"
      ],
      "text/plain": [
       "  unique_key    borough                              agency_name created_date  \\\n",
       "0   41072528     QUEENS  Department of Health and Mental Hygiene   2018-12-01   \n",
       "1   41073153     QUEENS  Department of Health and Mental Hygiene   2018-12-01   \n",
       "2   41078328  MANHATTAN  Department of Health and Mental Hygiene   2018-12-01   \n",
       "\n",
       "             due_date closed_date                  complaint_type  \\\n",
       "0 2018-12-31 01:59:50  2018-12-07  Unsanitary Animal Pvt Property   \n",
       "1 2018-12-31 00:29:24  2018-12-07                          Rodent   \n",
       "2 2018-12-31 09:20:35  2018-10-17                          Rodent   \n",
       "\n",
       "  closed_lte_due  \n",
       "0           True  \n",
       "1           True  \n",
       "2           True  "
      ]
     },
     "execution_count": 8,
     "metadata": {},
     "output_type": "execute_result"
    }
   ],
   "source": [
    "from pandera import check_output\n",
    "\n",
    "\n",
    "@check_output(DataFrameSchema({\"closed_lte_due\": Column(Bool, nullable=True)}))\n",
    "def add_closed_lte_due(df):\n",
    "    return df.assign(\n",
    "        closed_lte_due=(\n",
    "            (df.closed_date <= df.due_date)\n",
    "            .where(df.due_date.notnull(), pd.NaT))\n",
    "    )\n",
    "\n",
    "\n",
    "add_closed_lte_due(df_311).head(3)"
   ]
  },
  {
   "cell_type": "markdown",
   "metadata": {},
   "source": [
    "**Usage Note:**\n",
    "\n",
    "You can specify where the dataframe is in the output structure, where the\n",
    "default assumes a single dataframe as an output.\n",
    "\n",
    "```python\n",
    "@check_output(schema)\n",
    "def my_function(df):\n",
    "    # do stuff\n",
    "    return df\n",
    "```\n",
    "\n",
    "Or supply an integer, indexing where the dataframe is in a tuple output.\n",
    "\n",
    "```python\n",
    "@check_output(schema, 2)\n",
    "def my_function(df):\n",
    "    ...\n",
    "    return x, y, df\n",
    "```\n",
    "\n",
    "And for more complex outputs, supply a lambda function to specify how to\n",
    "pull the dataframe from python objects.\n",
    "\n",
    "```python\n",
    "@check_output(schema, lambda out: out[2][\"df_key\"])\n",
    "def my_function(df):\n",
    "    ...\n",
    "    return x, y, {\"df_key\": df}\n",
    "```"
   ]
  },
  {
   "cell_type": "markdown",
   "metadata": {},
   "source": [
    "### Cleaning Created Date"
   ]
  },
  {
   "cell_type": "markdown",
   "metadata": {},
   "source": [
    "The following transformation cleans up the `created_date` column and creates a new column\n",
    "`created_date_clean` with the format `YYYY-MM-DD`. We'll need this in order\n",
    "to count up the number of records created per day for the last question:\n",
    "\n",
    "> 3. Number of complaints recorded per day by complaint type and borough.\n",
    "\n",
    "For this last function, we'll be validating both the inputs and outputs of\n",
    "our function with `check_input` and `check_output`, respectively. Checking\n",
    "the input is probably not necessary at this point, but it just illustrates\n",
    "how one can define validation points at the input or output level."
   ]
  },
  {
   "cell_type": "code",
   "execution_count": 9,
   "metadata": {},
   "outputs": [
    {
     "data": {
      "text/html": [
       "<div>\n",
       "<style scoped>\n",
       "    .dataframe tbody tr th:only-of-type {\n",
       "        vertical-align: middle;\n",
       "    }\n",
       "\n",
       "    .dataframe tbody tr th {\n",
       "        vertical-align: top;\n",
       "    }\n",
       "\n",
       "    .dataframe thead th {\n",
       "        text-align: right;\n",
       "    }\n",
       "</style>\n",
       "<table border=\"1\" class=\"dataframe\">\n",
       "  <thead>\n",
       "    <tr style=\"text-align: right;\">\n",
       "      <th></th>\n",
       "      <th>unique_key</th>\n",
       "      <th>borough</th>\n",
       "      <th>agency_name</th>\n",
       "      <th>created_date</th>\n",
       "      <th>due_date</th>\n",
       "      <th>closed_date</th>\n",
       "      <th>complaint_type</th>\n",
       "      <th>created_date_clean</th>\n",
       "    </tr>\n",
       "  </thead>\n",
       "  <tbody>\n",
       "    <tr>\n",
       "      <th>0</th>\n",
       "      <td>41072528</td>\n",
       "      <td>QUEENS</td>\n",
       "      <td>Department of Health and Mental Hygiene</td>\n",
       "      <td>2018-12-01</td>\n",
       "      <td>2018-12-31 01:59:50</td>\n",
       "      <td>2018-12-07</td>\n",
       "      <td>Unsanitary Animal Pvt Property</td>\n",
       "      <td>2018-12-01</td>\n",
       "    </tr>\n",
       "    <tr>\n",
       "      <th>1</th>\n",
       "      <td>41073153</td>\n",
       "      <td>QUEENS</td>\n",
       "      <td>Department of Health and Mental Hygiene</td>\n",
       "      <td>2018-12-01</td>\n",
       "      <td>2018-12-31 00:29:24</td>\n",
       "      <td>2018-12-07</td>\n",
       "      <td>Rodent</td>\n",
       "      <td>2018-12-01</td>\n",
       "    </tr>\n",
       "    <tr>\n",
       "      <th>2</th>\n",
       "      <td>41078328</td>\n",
       "      <td>MANHATTAN</td>\n",
       "      <td>Department of Health and Mental Hygiene</td>\n",
       "      <td>2018-12-01</td>\n",
       "      <td>2018-12-31 09:20:35</td>\n",
       "      <td>2018-10-17</td>\n",
       "      <td>Rodent</td>\n",
       "      <td>2018-12-01</td>\n",
       "    </tr>\n",
       "  </tbody>\n",
       "</table>\n",
       "</div>"
      ],
      "text/plain": [
       "  unique_key    borough                              agency_name created_date  \\\n",
       "0   41072528     QUEENS  Department of Health and Mental Hygiene   2018-12-01   \n",
       "1   41073153     QUEENS  Department of Health and Mental Hygiene   2018-12-01   \n",
       "2   41078328  MANHATTAN  Department of Health and Mental Hygiene   2018-12-01   \n",
       "\n",
       "             due_date closed_date                  complaint_type  \\\n",
       "0 2018-12-31 01:59:50  2018-12-07  Unsanitary Animal Pvt Property   \n",
       "1 2018-12-31 00:29:24  2018-12-07                          Rodent   \n",
       "2 2018-12-31 09:20:35  2018-10-17                          Rodent   \n",
       "\n",
       "  created_date_clean  \n",
       "0         2018-12-01  \n",
       "1         2018-12-01  \n",
       "2         2018-12-01  "
      ]
     },
     "execution_count": 9,
     "metadata": {},
     "output_type": "execute_result"
    }
   ],
   "source": [
    "from pandera import check_input\n",
    "\n",
    "\n",
    "@check_input(DataFrameSchema({\"created_date\": Column(DateTime)}))\n",
    "@check_output(DataFrameSchema({\"created_date_clean\": Column(DateTime)}))\n",
    "def clean_created_date(df):\n",
    "    return (\n",
    "        df.assign(created_date_clean=(\n",
    "            df.created_date\n",
    "            .dt.strftime(\"'%Y-%m-%d\")\n",
    "            .astype(\"datetime64[ns]\")))\n",
    ")\n",
    "\n",
    "clean_created_date(df_311).head(3)"
   ]
  },
  {
   "cell_type": "markdown",
   "metadata": {},
   "source": [
    "**Usage Note:**\n",
    "\n",
    "Using `@check_input`, you can specify which positional or key-word argument\n",
    "references the dataframe, where the default assumes the first argument is the\n",
    "dataframe/series to check.\n",
    "\n",
    "```python\n",
    "@check_input(schema, 1)\n",
    "def my_function(x, dataframe):\n",
    "    ...\n",
    "    \n",
    "@check_input(schema, \"dataframe\")\n",
    "def my_function(x, dataframe):\n",
    "    ...\n",
    "```"
   ]
  },
  {
   "cell_type": "markdown",
   "metadata": {},
   "source": [
    "### Joining with Data External Sources\n",
    "\n",
    "Since our analysis involves counting up complaints by borough, we'll need to normalize\n",
    "the counts by dividing it by borough population estimates.\n",
    "\n",
    "You can imagine that your script calls some API that sends these estimates for you, but\n",
    "for now we're going to hard-code them here. These numbers are taken from\n",
    "[NYC.gov](https://www1.nyc.gov/site/planning/data-maps/nyc-population/current-future-populations.page)."
   ]
  },
  {
   "cell_type": "code",
   "execution_count": 16,
   "metadata": {},
   "outputs": [
    {
     "data": {
      "text/html": [
       "<div>\n",
       "<style scoped>\n",
       "    .dataframe tbody tr th:only-of-type {\n",
       "        vertical-align: middle;\n",
       "    }\n",
       "\n",
       "    .dataframe tbody tr th {\n",
       "        vertical-align: top;\n",
       "    }\n",
       "\n",
       "    .dataframe thead th {\n",
       "        text-align: right;\n",
       "    }\n",
       "</style>\n",
       "<table border=\"1\" class=\"dataframe\">\n",
       "  <thead>\n",
       "    <tr style=\"text-align: right;\">\n",
       "      <th></th>\n",
       "      <th>unique_key</th>\n",
       "      <th>borough</th>\n",
       "      <th>agency_name</th>\n",
       "      <th>created_date</th>\n",
       "      <th>due_date</th>\n",
       "      <th>closed_date</th>\n",
       "      <th>complaint_type</th>\n",
       "      <th>borough_population</th>\n",
       "    </tr>\n",
       "  </thead>\n",
       "  <tbody>\n",
       "    <tr>\n",
       "      <th>0</th>\n",
       "      <td>41072528</td>\n",
       "      <td>QUEENS</td>\n",
       "      <td>Department of Health and Mental Hygiene</td>\n",
       "      <td>2018-12-01</td>\n",
       "      <td>2018-12-31 01:59:50</td>\n",
       "      <td>2018-12-07</td>\n",
       "      <td>Unsanitary Animal Pvt Property</td>\n",
       "      <td>2358582.0</td>\n",
       "    </tr>\n",
       "    <tr>\n",
       "      <th>1</th>\n",
       "      <td>41073153</td>\n",
       "      <td>QUEENS</td>\n",
       "      <td>Department of Health and Mental Hygiene</td>\n",
       "      <td>2018-12-01</td>\n",
       "      <td>2018-12-31 00:29:24</td>\n",
       "      <td>2018-12-07</td>\n",
       "      <td>Rodent</td>\n",
       "      <td>2358582.0</td>\n",
       "    </tr>\n",
       "    <tr>\n",
       "      <th>2</th>\n",
       "      <td>41078328</td>\n",
       "      <td>MANHATTAN</td>\n",
       "      <td>Department of Health and Mental Hygiene</td>\n",
       "      <td>2018-12-01</td>\n",
       "      <td>2018-12-31 09:20:35</td>\n",
       "      <td>2018-10-17</td>\n",
       "      <td>Rodent</td>\n",
       "      <td>1664727.0</td>\n",
       "    </tr>\n",
       "  </tbody>\n",
       "</table>\n",
       "</div>"
      ],
      "text/plain": [
       "  unique_key    borough                              agency_name created_date  \\\n",
       "0   41072528     QUEENS  Department of Health and Mental Hygiene   2018-12-01   \n",
       "1   41073153     QUEENS  Department of Health and Mental Hygiene   2018-12-01   \n",
       "2   41078328  MANHATTAN  Department of Health and Mental Hygiene   2018-12-01   \n",
       "\n",
       "             due_date closed_date                  complaint_type  \\\n",
       "0 2018-12-31 01:59:50  2018-12-07  Unsanitary Animal Pvt Property   \n",
       "1 2018-12-31 00:29:24  2018-12-07                          Rodent   \n",
       "2 2018-12-31 09:20:35  2018-10-17                          Rodent   \n",
       "\n",
       "   borough_population  \n",
       "0           2358582.0  \n",
       "1           2358582.0  \n",
       "2           1664727.0  "
      ]
     },
     "execution_count": 16,
     "metadata": {},
     "output_type": "execute_result"
    }
   ],
   "source": [
    "BOROUGH_POPULATION_MAP = {\n",
    "    \"BROOKLYN\": 2648771,\n",
    "    \"QUEENS\": 2358582,\n",
    "    \"BRONX\": 1471160,\n",
    "    \"MANHATTAN\": 1664727,\n",
    "    \"STATEN ISLAND\": 479458,\n",
    "}\n",
    "\n",
    "\n",
    "@check_output(DataFrameSchema({\n",
    "    \"borough_population\": Column(\n",
    "        Float, Check(lambda x: x > 0),nullable=True)\n",
    "}))\n",
    "def add_borough_population(df):\n",
    "    return df.assign(\n",
    "        borough_population=df.borough.map(BOROUGH_POPULATION_MAP))\n",
    "    \n",
    "add_borough_population(df_311).head(3)"
   ]
  },
  {
   "cell_type": "markdown",
   "metadata": {},
   "source": [
    "Now we can pipe these functions in sequence to obtain our cleaned data."
   ]
  },
  {
   "cell_type": "code",
   "execution_count": 26,
   "metadata": {},
   "outputs": [],
   "source": [
    "clean_df_311 = (\n",
    "    df_311\n",
    "    .pipe(clean_complaint_type)\n",
    "    .pipe(add_closed_lte_due)\n",
    "    .pipe(clean_created_date)\n",
    "    .pipe(add_borough_population))"
   ]
  },
  {
   "cell_type": "markdown",
   "metadata": {},
   "source": [
    "## Reproducible Reports: Validate Analysis and Plotting Code\n",
    "\n",
    "Now that we have all the derived data we need to produce our report, we can now\n",
    "compute summary statistics and create plots for the final product.\n",
    "\n",
    "Here it’s useful to think of our data manipulation code as the “backend” data\n",
    "and our insight-generating code as the “frontend” data.\n",
    "\n",
    "So at this point we need to reshape our “backend” data into the appropriate\n",
    "aggregated form that can be easily plotted. Here `pandera` can help by\n",
    "clarifying what our aggregation and plotting functions can expect."
   ]
  },
  {
   "cell_type": "markdown",
   "metadata": {},
   "source": [
    "### Count of the Most Common Complaints by Borough\n",
    "\n",
    "First we select records belonging to the top 12 complaint types and\n",
    "count them up by `borough` and `complaint_type_clean`. These aggregated\n",
    "data can then be used to produce a plot of the `count` of complaints in\n",
    "the last quarter vs. `borough`, faceted by `complaint_type_clean`.\n",
    "\n",
    "Note that here we normalize the per-borough counts by the respective population, so the normalized count interpretation would be _\"number of complaints per 1\n",
    "million people\"_."
   ]
  },
  {
   "cell_type": "code",
   "execution_count": 87,
   "metadata": {},
   "outputs": [
    {
     "data": {
      "image/png": "[encoded data removed]",
      "text/plain": [
       "<Figure size 907.2x864 with 12 Axes>"
      ]
     },
     "metadata": {
      "needs_background": "light"
     },
     "output_type": "display_data"
    }
   ],
   "source": [
    "complaint_by_borough_schema = DataFrameSchema({\n",
    "    \"borough\": Column(String),\n",
    "    \"borough_population\": Column(Float, nullable=True),\n",
    "    \"complaint_type_clean\": Column(String),\n",
    "    # make sure count column contains positive integers\n",
    "    \"count\": Column(Int, Check(lambda x: x > 0)),\n",
    "    \"complaints_per_pop\": Column(Float)\n",
    "})\n",
    "\n",
    "TOP_N = 12\n",
    "COMPLAINT_TYPE_TITLE = \\\n",
    "    \"%s  ( %s - %s )\" % (\n",
    "        \"Number of New York 311 service requests by borough and complaint type\",\n",
    "        DATE_RANGE[0], DATE_RANGE[1])\n",
    "\n",
    "\n",
    "def normalize_by_population(\n",
    "        df: pd.DataFrame,\n",
    "        count: str,\n",
    "        population: str,\n",
    "        scale: float) -> pd.Series:\n",
    "    \"\"\"Normalizes at 1 million scale.\"\"\"\n",
    "    return df[count] / (df[population] / scale)\n",
    "\n",
    "@check_output(complaint_by_borough_schema)\n",
    "def agg_complaint_types_by_borough(clean_df):\n",
    "    plot_df = (\n",
    "        clean_df\n",
    "        .groupby([\"borough\", \"borough_population\", \"complaint_type_clean\"])\n",
    "        .unique_key.count()\n",
    "        .rename(\"count\")\n",
    "        .reset_index()\n",
    "        .assign(complaints_per_pop=lambda df: (\n",
    "            normalize_by_population(df, \"count\", \"borough_population\", 10**6)))\n",
    "    )\n",
    "    # select only the top 12 complaint types (across all boroughs)\n",
    "    top_complaints = (\n",
    "        clean_df.complaint_type_clean\n",
    "        .value_counts()\n",
    "        .sort_values(ascending=False)\n",
    "        .head(TOP_N).index.tolist())\n",
    "    return plot_df[plot_df.complaint_type_clean.isin(top_complaints)]\n",
    "\n",
    "\n",
    "# this is probably overkill, but this illustrates that you can\n",
    "# add schema checks at the interface of two functions.\n",
    "@check_input(complaint_by_borough_schema)\n",
    "def plot_complaint_types_by_borough(complaint_by_borough_df):\n",
    "    g = sns.catplot(\n",
    "        x=\"complaints_per_pop\",\n",
    "        y=\"borough\",\n",
    "        col=\"complaint_type_clean\",\n",
    "        col_wrap=3,\n",
    "        data=complaint_by_borough_df,\n",
    "        kind=\"bar\",\n",
    "        height=3,\n",
    "        aspect=1.4,\n",
    "        sharex=False,\n",
    "    )\n",
    "    g.set_titles(template=\"{col_name}\")\n",
    "    g.set_ylabels(\"\")\n",
    "    g.set_xlabels(\"n complaints / 1M people\")\n",
    "    g.fig.suptitle(COMPLAINT_TYPE_TITLE, y=1.05, fontweight=\"bold\", fontsize=18)\n",
    "    plt.tight_layout()\n",
    "    plt.subplots_adjust(hspace=0.6, wspace=0.4)\n",
    "    sns.despine(left=True, bottom=True)\n",
    "    for ax in g.axes.ravel():\n",
    "        ax.tick_params(left=False)\n",
    "    return g\n",
    "\n",
    "\n",
    "with sns.plotting_context(context=\"notebook\", font_scale=1.2):\n",
    "    g = agg_complaint_types_by_borough(clean_df_311).pipe(\n",
    "        plot_complaint_types_by_borough)"
   ]
  },
  {
   "cell_type": "markdown",
   "metadata": {},
   "source": [
    "### Proportion of Service Requests Closed on or Before the Due Date\n",
    "\n",
    "For this question we'll compute the proportion of requests that were closed\n",
    "on or before the `due_date` by `agency_name`, where we'll remove entries\n",
    "that have null values or where the proportion is `0`."
   ]
  },
  {
   "cell_type": "code",
   "execution_count": 85,
   "metadata": {},
   "outputs": [
    {
     "data": {
      "image/png": "[encoded data removed]",
      "text/plain": [
       "<Figure size 806.4x576 with 1 Axes>"
      ]
     },
     "metadata": {
      "needs_background": "light"
     },
     "output_type": "display_data"
    }
   ],
   "source": [
    "proportion_by_agency_schema = DataFrameSchema({\n",
    "    \"agency_name\": Column(String),\n",
    "    \"proportion_closed_on_time\": Column(\n",
    "        Float, Check(lambda x: 0 <= x <= 1), nullable=True)\n",
    "})\n",
    "\n",
    "PROPORTION_BY_AGENCY_TITLE = \\\n",
    "    \"%s  ( %s - %s )\" % (\n",
    "        \"Proportion of New York 311 requests closed on time by Responding Agency\",\n",
    "        DATE_RANGE[0], DATE_RANGE[1])\n",
    "\n",
    "@check_output(proportion_by_agency_schema)\n",
    "def agg_proportion_by_agency(clean_df):\n",
    "    return (\n",
    "        clean_df.groupby(\"agency_name\")\n",
    "        .closed_lte_due.apply(lambda s: s.mean() if s.count() > 0 else np.nan)\n",
    "        .dropna()\n",
    "        .rename(\"proportion_closed_on_time\")\n",
    "        .reset_index(\"agency_name\")\n",
    "        .query(\"proportion_closed_on_time > 0\")\n",
    "    )\n",
    "    \n",
    "\n",
    "@check_input(proportion_by_agency_schema)\n",
    "def plot_proportion_by_agency(proportion_by_agency_df):\n",
    "    g = sns.catplot(\n",
    "        x=\"proportion_closed_on_time\", y=\"agency_name\",\n",
    "        order=proportion_by_agency_df.sort_values(\n",
    "            \"proportion_closed_on_time\", ascending=False).agency_name,\n",
    "        data=proportion_by_agency_df,\n",
    "        kind=\"bar\",\n",
    "        height=8,\n",
    "        aspect=1.4)\n",
    "    sns.despine(left=True, bottom=True)\n",
    "    g.set_ylabels(\"\")\n",
    "    g.set_xlabels(\"proportion closed on time\")\n",
    "    for ax in g.axes.ravel():\n",
    "        ax.tick_params(left=False)\n",
    "    g.fig.suptitle(PROPORTION_BY_AGENCY_TITLE, y=1.03, fontweight=\"bold\", fontsize=14)\n",
    "    return g\n",
    "\n",
    "with sns.plotting_context(context=\"notebook\", font_scale=1.1):\n",
    "    axes = plot_proportion_by_agency(agg_proportion_by_agency(clean_df_311))\n"
   ]
  },
  {
   "cell_type": "markdown",
   "metadata": {},
   "source": [
    "### Daily Complaints per Borough\n",
    "\n",
    "Here we have to count up all number of service requests per day by `borough`,\n",
    "so we'll want to make sure that the `number_of_complaints` is a positive number\n",
    "and that the borough values are in the `BOROUGHS` global variable that we defined\n",
    "earlier.\n",
    "\n",
    "Here we also normalize the per-borough counts by the respective population (per 1K)."
   ]
  },
  {
   "cell_type": "code",
   "execution_count": 86,
   "metadata": {},
   "outputs": [
    {
     "data": {
      "image/png": "[encoded data removed]",
      "text/plain": [
       "<Figure size 864x432 with 1 Axes>"
      ]
     },
     "metadata": {
      "needs_background": "light"
     },
     "output_type": "display_data"
    }
   ],
   "source": [
    "daily_complaints_schema = DataFrameSchema({\n",
    "    \"created_date_clean\": Column(DateTime, Check(lambda x: x >= pd.Timestamp(DATE_RANGE[0]))),\n",
    "    \"borough\": Column(String, Check(lambda x: x in BOROUGHS)),\n",
    "    \"borough_population\": Column(Float, nullable=True),\n",
    "    \"count\": Column(Int, Check(lambda x: x > 0)),\n",
    "    \"complaints_per_pop\": Column(Float, nullable=True)\n",
    "})\n",
    "\n",
    "DAILY_COMPLAINTS_TITLE = \\\n",
    "    \"%s  ( %s - %s )\" % (\n",
    "        \"Number of daily New York 311 requests by borough\",\n",
    "        DATE_RANGE[0], DATE_RANGE[1])\n",
    "\n",
    "\n",
    "@check_output(daily_complaints_schema)\n",
    "def agg_daily_complaints(clean_df):\n",
    "    return (\n",
    "        clean_df\n",
    "        .groupby([\"borough\", \"borough_population\", \"created_date_clean\"])\n",
    "        .unique_key.count().rename(\"count\")\n",
    "        .reset_index()\n",
    "        .assign(complaints_per_pop=lambda df: (\n",
    "            normalize_by_population(df, \"count\", \"borough_population\", 10**3))))\n",
    "\n",
    "\n",
    "@check_input(daily_complaints_schema)\n",
    "def plot_daily_complaints(daily_complaints_df):\n",
    "    fig, ax = plt.subplots(1, figsize=(12, 6))\n",
    "    ax = sns.lineplot(\n",
    "        x=\"created_date_clean\", y=\"complaints_per_pop\", hue=\"borough\",\n",
    "        data=daily_complaints_df, ax=ax)\n",
    "    sns.despine()\n",
    "    ax.set_ylabel(\"n complaints / 1K people\")\n",
    "    ax.set_xlabel(\"created on\")\n",
    "    fig.suptitle(DAILY_COMPLAINTS_TITLE, y=0.99, fontweight=\"bold\", fontsize=16)\n",
    "    return ax\n",
    "\n",
    "with sns.plotting_context(context=\"notebook\", font_scale=1.2):\n",
    "    plot_daily_complaints(agg_daily_complaints(clean_df_311))"
   ]
  },
  {
   "cell_type": "markdown",
   "metadata": {},
   "source": [
    "## Conclusion\n",
    "\n",
    "And there you have it! Once you know your data well enough to express the contents\n",
    "of a dataframe as a schema of columns, data types, and checks, your code can be\n",
    "more easily reviewed, debugged, and maintained by you and your team.\n",
    "\n",
    "What this post doesn't really illustrate is the process of getting to know your data,\n",
    "which is highly context dependent. In this case, I used the same jupyter notebook\n",
    "that I used to create this post as a scratch-pad for inspecting the data and figuring\n",
    "out exactly what I needed it to look like in order to answer the questions in my fictional\n",
    "example using NYC 311 data.\n",
    "\n",
    "I’m actively developing [`pandera`](https://github.com/cosmicBboy/pandera), with some\n",
    "useful features coming down the road, like built-in hypothesis testing, multi-column\n",
    "validation, and multi-index column and index validation.\n",
    "\n",
    "On a personal note, I’ve found that it takes a little more discipline to add these\n",
    "validation checks to my code, but I’m already seeing the benefits of doing so in my \n",
    "professional and side-project code. Thanks for reading, and feel free to try `pandera` out!"
   ]
  }
 ],
 "metadata": {
  "kernelspec": {
   "display_name": "cosmicbboy-blog",
   "language": "python",
   "name": "cosmicbboy-blog"
  },
  "language_info": {
   "codemirror_mode": {
    "name": "ipython",
    "version": 3
   },
   "file_extension": ".py",
   "mimetype": "text/x-python",
   "name": "python",
   "nbconvert_exporter": "python",
   "pygments_lexer": "ipython3",
   "version": "3.6.7"
  }
 },
 "nbformat": 4,
 "nbformat_minor": 2
}
